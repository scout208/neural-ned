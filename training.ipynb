{
 "cells": [
  {
   "cell_type": "code",
   "execution_count": 1,
   "metadata": {},
   "outputs": [],
   "source": [
    "from spacy import displacy\n",
    "import pandas as pd\n",
    "import json\n",
    "from pandas import DataFrame\n",
    "import spacy\n",
    "import sys, json\n",
    "import random"
   ]
  },
  {
   "cell_type": "code",
   "execution_count": 2,
   "metadata": {},
   "outputs": [],
   "source": [
    "def convert_dataturks_to_spacy(dataturks_JSON_FilePath):\n",
    "#     try:\n",
    "    training_data = []\n",
    "    lines=[]\n",
    "    with open(dataturks_JSON_FilePath, 'r') as f:\n",
    "        lines = f.readlines()\n",
    "    count_line = 0\n",
    "    for line in lines:\n",
    "        data = json.loads(line)\n",
    "        text = data['content']\n",
    "        entities = []\n",
    "#         return data\n",
    "        if not data['annotation']:\n",
    "            continue\n",
    "        for annotation in data['annotation']['annotationResult']:\n",
    "            #only a single point in text annotation.\n",
    "            try:\n",
    "                point = annotation['points'][0]\n",
    "            except:\n",
    "                print(count_line)\n",
    "                print(data['annotation'])\n",
    "            labels = annotation['label']\n",
    "            # handle both list of labels or a single label.\n",
    "            if not isinstance(labels, list):\n",
    "                labels = [labels]\n",
    "\n",
    "            for label in labels:\n",
    "                #dataturks indices are both inclusive [start, end] but spacy is not [start, end)\n",
    "                entities.append((point['start'], point['end'] + 1 ,label))\n",
    "        count_line +=1\n",
    "        training_data.append((text, {\"entities\" : entities}))\n",
    "\n",
    "    return training_data\n",
    "#     except Exception as e:\n",
    "#         logging.exception(\"Unable to process \" + dataturks_JSON_FilePath + \"\\n\" + \"error = \" + str(e))\n",
    "#         return None"
   ]
  },
  {
   "cell_type": "code",
   "execution_count": 4,
   "metadata": {},
   "outputs": [],
   "source": [
    "def train_spacy(file_path):\n",
    "    TRAIN_DATA = convert_dataturks_to_spacy(file_path);\n",
    "    nlp = spacy.blank('en')  # create blank Language class\n",
    "    # create the built-in pipeline components and add them to the pipeline\n",
    "    # nlp.create_pipe works for built-ins that are registered with spaCy\n",
    "    if 'ner' not in nlp.pipe_names:\n",
    "        ner = nlp.create_pipe('ner')\n",
    "        nlp.add_pipe(ner, last=True)\n",
    "\n",
    "    # add labels\n",
    "    try:\n",
    "        for _, annotations in TRAIN_DATA:\n",
    "            for ent in annotations.get('entities'):\n",
    "                ner.add_label(ent[2])\n",
    "    except:\n",
    "        print(\"missing\")\n",
    "\n",
    "    # get names of other pipes to disable them during training\n",
    "    other_pipes = [pipe for pipe in nlp.pipe_names if pipe != 'ner']\n",
    "    with nlp.disable_pipes(*other_pipes):  # only train NER\n",
    "        optimizer = nlp.begin_training()\n",
    "        for itn in range(10):\n",
    "            print(\"Statring iteration \" + str(itn))\n",
    "            random.shuffle(TRAIN_DATA)\n",
    "            losses = {}\n",
    "            for text, annotations in TRAIN_DATA:\n",
    "                nlp.update(\n",
    "                    [text],  # batch of texts\n",
    "                    [annotations],  # batch of annotations\n",
    "                    drop=0.2,  # dropout - make it harder to memorise data\n",
    "                    sgd=optimizer,  # callable to update weights\n",
    "                    losses=losses)\n",
    "            print(losses)\n",
    "    \n",
    "    #do prediction\n",
    "    doc = nlp(\"Samsing mobiles below $100\")\n",
    "    return nlp"
   ]
  },
  {
   "cell_type": "code",
   "execution_count": 5,
   "metadata": {},
   "outputs": [
    {
     "name": "stdout",
     "output_type": "stream",
     "text": [
      "Warning: Unnamed vectors -- this won't allow multiple vectors models to be loaded. (Shape: (0, 0))\n",
      "Statring iteration 0\n",
      "{'ner': 7880.578515010709}\n",
      "Statring iteration 1\n",
      "{'ner': 5572.440920216742}\n",
      "Statring iteration 2\n",
      "{'ner': 4841.791426243034}\n",
      "Statring iteration 3\n",
      "{'ner': 4155.274966260941}\n",
      "Statring iteration 4\n",
      "{'ner': 3944.6194341536507}\n",
      "Statring iteration 5\n",
      "{'ner': 3584.7441854258504}\n",
      "Statring iteration 6\n",
      "{'ner': 3210.4040615635345}\n",
      "Statring iteration 7\n",
      "{'ner': 3133.551317985392}\n",
      "Statring iteration 8\n",
      "{'ner': 2863.9323135290497}\n",
      "Statring iteration 9\n",
      "{'ner': 2492.5375070037676}\n"
     ]
    }
   ],
   "source": [
    "FILE_COMPLETE = \"dump.json\"\n",
    "nlp_ = train_spacy(FILE_COMPLETE)"
   ]
  },
  {
   "cell_type": "code",
   "execution_count": 16,
   "metadata": {},
   "outputs": [
    {
     "data": {
      "text/html": [
       "<div class=\"entities\" style=\"line-height: 2.5\">I'm not a \n",
       "<mark class=\"entity\" style=\"background: #ddd; padding: 0.45em 0.6em; margin: 0 0.25em; line-height: 1; border-radius: 0.35em; box-decoration-break: clone; -webkit-box-decoration-break: clone\">\n",
       "    believer\n",
       "    <span style=\"font-size: 0.8em; font-weight: bold; line-height: 1; border-radius: 0.35em; text-transform: uppercase; vertical-align: middle; margin-left: 0.5rem\">spiritual_condition</span>\n",
       "</mark>\n",
       " but I would like to know more about \n",
       "<mark class=\"entity\" style=\"background: #ddd; padding: 0.45em 0.6em; margin: 0 0.25em; line-height: 1; border-radius: 0.35em; box-decoration-break: clone; -webkit-box-decoration-break: clone\">\n",
       "    Jesus\n",
       "    <span style=\"font-size: 0.8em; font-weight: bold; line-height: 1; border-radius: 0.35em; text-transform: uppercase; vertical-align: middle; margin-left: 0.5rem\">jesus</span>\n",
       "</mark>\n",
       "!</div>"
      ],
      "text/plain": [
       "<IPython.core.display.HTML object>"
      ]
     },
     "metadata": {},
     "output_type": "display_data"
    }
   ],
   "source": [
    "doc = nlp_(\"I'm not a believer but I would like to know more about Jesus!\")\n",
    "displacy.render(doc, style='ent', jupyter=True)"
   ]
  },
  {
   "cell_type": "code",
   "execution_count": 17,
   "metadata": {},
   "outputs": [],
   "source": [
    "nlp_.to_disk('evangelism_model')"
   ]
  },
  {
   "cell_type": "code",
   "execution_count": null,
   "metadata": {},
   "outputs": [],
   "source": []
  }
 ],
 "metadata": {
  "kernelspec": {
   "display_name": "Python 3",
   "language": "python",
   "name": "python3"
  },
  "language_info": {
   "codemirror_mode": {
    "name": "ipython",
    "version": 3
   },
   "file_extension": ".py",
   "mimetype": "text/x-python",
   "name": "python",
   "nbconvert_exporter": "python",
   "pygments_lexer": "ipython3",
   "version": "3.5.2"
  }
 },
 "nbformat": 4,
 "nbformat_minor": 2
}
